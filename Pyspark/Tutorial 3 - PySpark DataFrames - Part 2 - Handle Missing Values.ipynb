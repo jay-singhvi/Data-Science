{
 "cells": [
  {
   "cell_type": "markdown",
   "metadata": {},
   "source": [
    "### Pyspark Handling Missing Values\n",
    "- Dropping Columns\n",
    "- Dropping Rows\n",
    "- Various Parameter In Dropping functionalities\n",
    "- Handling Missing values by Mean, Median And Mode"
   ]
  },
  {
   "cell_type": "code",
   "execution_count": null,
   "metadata": {},
   "outputs": [],
   "source": [
    "! pip install python-language-server[all]"
   ]
  },
  {
   "cell_type": "code",
   "execution_count": 1,
   "metadata": {},
   "outputs": [
    {
     "data": {
      "text/html": [
       "\n",
       "            <div>\n",
       "                <p><b>SparkSession - in-memory</b></p>\n",
       "                \n",
       "        <div>\n",
       "            <p><b>SparkContext</b></p>\n",
       "\n",
       "            <p><a href=\"http://10.0.0.126:4040\">Spark UI</a></p>\n",
       "\n",
       "            <dl>\n",
       "              <dt>Version</dt>\n",
       "                <dd><code>v3.5.3</code></dd>\n",
       "              <dt>Master</dt>\n",
       "                <dd><code>local[*]</code></dd>\n",
       "              <dt>AppName</dt>\n",
       "                <dd><code>Dataframe</code></dd>\n",
       "            </dl>\n",
       "        </div>\n",
       "        \n",
       "            </div>\n",
       "        "
      ],
      "text/plain": [
       "<pyspark.sql.session.SparkSession at 0x24dc5cde000>"
      ]
     },
     "execution_count": 1,
     "metadata": {},
     "output_type": "execute_result"
    }
   ],
   "source": [
    "from pyspark.sql import SparkSession\n",
    "\n",
    "spark = SparkSession.builder.appName(\"Dataframe\").getOrCreate()\n",
    "spark"
   ]
  },
  {
   "cell_type": "code",
   "execution_count": 39,
   "metadata": {},
   "outputs": [],
   "source": [
    "df_pyspark = spark.read.csv(path=\"test2.csv\", header=True, inferSchema=True)"
   ]
  },
  {
   "cell_type": "code",
   "execution_count": 3,
   "metadata": {},
   "outputs": [
    {
     "name": "stdout",
     "output_type": "stream",
     "text": [
      "+---------+----+----------+------+\n",
      "|     Name| age|Experience|Salary|\n",
      "+---------+----+----------+------+\n",
      "|    Krish|  31|        10| 30000|\n",
      "|Sudhanshu|  30|         8| 25000|\n",
      "|    Sunny|  29|         4| 20000|\n",
      "|     Paul|  24|         3| 20000|\n",
      "|   Harsha|  21|         1| 15000|\n",
      "|  Shubham|  23|         2| 18000|\n",
      "|   Mahesh|NULL|      NULL| 40000|\n",
      "|     NULL|  34|        10| 38000|\n",
      "|     NULL|  36|      NULL|  NULL|\n",
      "+---------+----+----------+------+\n",
      "\n"
     ]
    }
   ],
   "source": [
    "df_pyspark.show()"
   ]
  },
  {
   "cell_type": "markdown",
   "metadata": {},
   "source": [
    "## Drop Value"
   ]
  },
  {
   "cell_type": "code",
   "execution_count": null,
   "metadata": {},
   "outputs": [
    {
     "name": "stdout",
     "output_type": "stream",
     "text": [
      "+---------+---+----------+------+\n",
      "|     Name|age|Experience|Salary|\n",
      "+---------+---+----------+------+\n",
      "|    Krish| 31|        10| 30000|\n",
      "|Sudhanshu| 30|         8| 25000|\n",
      "|    Sunny| 29|         4| 20000|\n",
      "|     Paul| 24|         3| 20000|\n",
      "|   Harsha| 21|         1| 15000|\n",
      "|  Shubham| 23|         2| 18000|\n",
      "+---------+---+----------+------+\n",
      "\n",
      "+---------+---+----------+------+\n",
      "|     Name|age|Experience|Salary|\n",
      "+---------+---+----------+------+\n",
      "|    Krish| 31|        10| 30000|\n",
      "|Sudhanshu| 30|         8| 25000|\n",
      "|    Sunny| 29|         4| 20000|\n",
      "|     Paul| 24|         3| 20000|\n",
      "|   Harsha| 21|         1| 15000|\n",
      "|  Shubham| 23|         2| 18000|\n",
      "+---------+---+----------+------+\n",
      "\n",
      "+---------+---+----------+------+\n",
      "|     Name|age|Experience|Salary|\n",
      "+---------+---+----------+------+\n",
      "|    Krish| 31|        10| 30000|\n",
      "|Sudhanshu| 30|         8| 25000|\n",
      "|    Sunny| 29|         4| 20000|\n",
      "|     Paul| 24|         3| 20000|\n",
      "|   Harsha| 21|         1| 15000|\n",
      "|  Shubham| 23|         2| 18000|\n",
      "+---------+---+----------+------+\n",
      "\n",
      "+---------+---+----------+------+\n",
      "|     Name|age|Experience|Salary|\n",
      "+---------+---+----------+------+\n",
      "|    Krish| 31|        10| 30000|\n",
      "|Sudhanshu| 30|         8| 25000|\n",
      "|    Sunny| 29|         4| 20000|\n",
      "|     Paul| 24|         3| 20000|\n",
      "|   Harsha| 21|         1| 15000|\n",
      "|  Shubham| 23|         2| 18000|\n",
      "+---------+---+----------+------+\n",
      "\n"
     ]
    }
   ],
   "source": [
    "df_pyspark.na.drop().show()\n",
    "\n",
    "# same\n",
    "\n",
    "df_pyspark.dropna().show()\n",
    "\n",
    "# same\n",
    "\n",
    "df_pyspark.dropna(how=\"any\").show()\n",
    "\n",
    "# same\n",
    "\n",
    "df_pyspark.na.drop(\n",
    "    how=\"any\", thresh=4\n",
    ").show()  # number of columns that should have atleast have value"
   ]
  },
  {
   "cell_type": "code",
   "execution_count": null,
   "metadata": {},
   "outputs": [
    {
     "name": "stdout",
     "output_type": "stream",
     "text": [
      "+---------+----+----------+------+\n",
      "|     Name| age|Experience|Salary|\n",
      "+---------+----+----------+------+\n",
      "|    Krish|  31|        10| 30000|\n",
      "|Sudhanshu|  30|         8| 25000|\n",
      "|    Sunny|  29|         4| 20000|\n",
      "|     Paul|  24|         3| 20000|\n",
      "|   Harsha|  21|         1| 15000|\n",
      "|  Shubham|  23|         2| 18000|\n",
      "|   Mahesh|NULL|      NULL| 40000|\n",
      "|     NULL|  34|        10| 38000|\n",
      "|     NULL|  36|      NULL|  NULL|\n",
      "+---------+----+----------+------+\n",
      "\n",
      "+---------+---+----------+------+\n",
      "|     Name|age|Experience|Salary|\n",
      "+---------+---+----------+------+\n",
      "|    Krish| 31|        10| 30000|\n",
      "|Sudhanshu| 30|         8| 25000|\n",
      "|    Sunny| 29|         4| 20000|\n",
      "|     Paul| 24|         3| 20000|\n",
      "|   Harsha| 21|         1| 15000|\n",
      "|  Shubham| 23|         2| 18000|\n",
      "|     NULL| 34|        10| 38000|\n",
      "|     NULL| 36|      NULL|  NULL|\n",
      "+---------+---+----------+------+\n",
      "\n"
     ]
    }
   ],
   "source": [
    "df_pyspark.dropna(how=\"all\").show()  # remove rows only if all columns are blank\n",
    "\n",
    "df_pyspark.na.drop(\n",
    "    how=\"any\", subset=[\"Age\"]\n",
    ").show()  # remove rows if value not present in specific column"
   ]
  },
  {
   "cell_type": "markdown",
   "metadata": {},
   "source": [
    "## Fill Value"
   ]
  },
  {
   "cell_type": "code",
   "execution_count": 31,
   "metadata": {},
   "outputs": [
    {
     "name": "stdout",
     "output_type": "stream",
     "text": [
      "+--------------+----+----------+------+\n",
      "|          Name| age|Experience|Salary|\n",
      "+--------------+----+----------+------+\n",
      "|         Krish|  31|        10| 30000|\n",
      "|     Sudhanshu|  30|         8| 25000|\n",
      "|         Sunny|  29|         4| 20000|\n",
      "|          Paul|  24|         3| 20000|\n",
      "|        Harsha|  21|         1| 15000|\n",
      "|       Shubham|  23|         2| 18000|\n",
      "|        Mahesh|NULL|      NULL| 40000|\n",
      "|Missing Values|  34|        10| 38000|\n",
      "|Missing Values|  36|      NULL|  NULL|\n",
      "+--------------+----+----------+------+\n",
      "\n"
     ]
    }
   ],
   "source": [
    "fill_value = \"Missing Values\"\n",
    "df_pyspark.na.fill(fill_value).show()  # Fill in all columns"
   ]
  },
  {
   "cell_type": "code",
   "execution_count": null,
   "metadata": {},
   "outputs": [
    {
     "name": "stdout",
     "output_type": "stream",
     "text": [
      "+--------------+--------------+----------+--------------+\n",
      "|          Name|           age|Experience|        Salary|\n",
      "+--------------+--------------+----------+--------------+\n",
      "|         Krish|            31|        10|         30000|\n",
      "|     Sudhanshu|            30|         8|         25000|\n",
      "|         Sunny|            29|         4|         20000|\n",
      "|          Paul|            24|         3|         20000|\n",
      "|        Harsha|            21|         1|         15000|\n",
      "|       Shubham|            23|         2|         18000|\n",
      "|        Mahesh|Missing Values|      NULL|         40000|\n",
      "|Missing Values|            34|        10|         38000|\n",
      "|Missing Values|            36|      NULL|Missing Values|\n",
      "+--------------+--------------+----------+--------------+\n",
      "\n"
     ]
    }
   ],
   "source": [
    "df_pyspark.na.fill(\n",
    "    fill_value, subset=[\"Name\", \"age\", \"Salary\"]\n",
    ").show()  # Fill in specific columns, value to be filled depends of column data type"
   ]
  },
  {
   "cell_type": "code",
   "execution_count": null,
   "metadata": {},
   "outputs": [],
   "source": [
    "from pyspark.ml.feature import Imputer"
   ]
  },
  {
   "cell_type": "code",
   "execution_count": 54,
   "metadata": {},
   "outputs": [
    {
     "name": "stdout",
     "output_type": "stream",
     "text": [
      "mean_imputed\n",
      "+---------+----+----------+------+----------------+-----------------------+-------------------+\n",
      "|     Name| age|Experience|Salary|age_mean_imputed|Experience_mean_imputed|Salary_mean_imputed|\n",
      "+---------+----+----------+------+----------------+-----------------------+-------------------+\n",
      "|    Krish|  31|        10| 30000|              31|                     10|              30000|\n",
      "|Sudhanshu|  30|         8| 25000|              30|                      8|              25000|\n",
      "|    Sunny|  29|         4| 20000|              29|                      4|              20000|\n",
      "|     Paul|  24|         3| 20000|              24|                      3|              20000|\n",
      "|   Harsha|  21|         1| 15000|              21|                      1|              15000|\n",
      "|  Shubham|  23|         2| 18000|              23|                      2|              18000|\n",
      "|   Mahesh|NULL|      NULL| 40000|              28|                      5|              40000|\n",
      "|     NULL|  34|        10| 38000|              34|                     10|              38000|\n",
      "|     NULL|  36|      NULL|  NULL|              36|                      5|              25750|\n",
      "+---------+----+----------+------+----------------+-----------------------+-------------------+\n",
      "\n",
      "median_imputed\n",
      "+---------+----+----------+------+------------------+-------------------------+---------------------+\n",
      "|     Name| age|Experience|Salary|age_median_imputed|Experience_median_imputed|Salary_median_imputed|\n",
      "+---------+----+----------+------+------------------+-------------------------+---------------------+\n",
      "|    Krish|  31|        10| 30000|                31|                       10|                30000|\n",
      "|Sudhanshu|  30|         8| 25000|                30|                        8|                25000|\n",
      "|    Sunny|  29|         4| 20000|                29|                        4|                20000|\n",
      "|     Paul|  24|         3| 20000|                24|                        3|                20000|\n",
      "|   Harsha|  21|         1| 15000|                21|                        1|                15000|\n",
      "|  Shubham|  23|         2| 18000|                23|                        2|                18000|\n",
      "|   Mahesh|NULL|      NULL| 40000|                29|                        4|                40000|\n",
      "|     NULL|  34|        10| 38000|                34|                       10|                38000|\n",
      "|     NULL|  36|      NULL|  NULL|                36|                        4|                20000|\n",
      "+---------+----+----------+------+------------------+-------------------------+---------------------+\n",
      "\n",
      "mode_imputed\n",
      "+---------+----+----------+------+----------------+-----------------------+-------------------+\n",
      "|     Name| age|Experience|Salary|age_mode_imputed|Experience_mode_imputed|Salary_mode_imputed|\n",
      "+---------+----+----------+------+----------------+-----------------------+-------------------+\n",
      "|    Krish|  31|        10| 30000|              31|                     10|              30000|\n",
      "|Sudhanshu|  30|         8| 25000|              30|                      8|              25000|\n",
      "|    Sunny|  29|         4| 20000|              29|                      4|              20000|\n",
      "|     Paul|  24|         3| 20000|              24|                      3|              20000|\n",
      "|   Harsha|  21|         1| 15000|              21|                      1|              15000|\n",
      "|  Shubham|  23|         2| 18000|              23|                      2|              18000|\n",
      "|   Mahesh|NULL|      NULL| 40000|              21|                     10|              40000|\n",
      "|     NULL|  34|        10| 38000|              34|                     10|              38000|\n",
      "|     NULL|  36|      NULL|  NULL|              36|                     10|              20000|\n",
      "+---------+----+----------+------+----------------+-----------------------+-------------------+\n",
      "\n"
     ]
    }
   ],
   "source": [
    "strategy_type: list[str] = [\"mean\", \"median\", \"mode\"]\n",
    "\n",
    "for strategy in strategy_type:\n",
    "    imputer: Imputer = Imputer(\n",
    "        inputCols=[\"age\", \"Experience\", \"Salary\"],\n",
    "        outputCols=[f\"{c}_{strategy}_imputed\" for c in [\"age\", \"Experience\", \"Salary\"]],\n",
    "    ).setStrategy(value=strategy)\n",
    "\n",
    "    print(f\"{strategy}_imputed\")\n",
    "\n",
    "    imputer.fit(dataset=df_pyspark).transform(dataset=df_pyspark).show()"
   ]
  },
  {
   "cell_type": "code",
   "execution_count": null,
   "metadata": {},
   "outputs": [],
   "source": []
  },
  {
   "cell_type": "code",
   "execution_count": null,
   "metadata": {},
   "outputs": [],
   "source": []
  }
 ],
 "metadata": {
  "kernelspec": {
   "display_name": "Python 3",
   "language": "python",
   "name": "python3"
  },
  "language_info": {
   "codemirror_mode": {
    "name": "ipython",
    "version": 3
   },
   "file_extension": ".py",
   "mimetype": "text/x-python",
   "name": "python",
   "nbconvert_exporter": "python",
   "pygments_lexer": "ipython3",
   "version": "3.12.7"
  }
 },
 "nbformat": 4,
 "nbformat_minor": 2
}
