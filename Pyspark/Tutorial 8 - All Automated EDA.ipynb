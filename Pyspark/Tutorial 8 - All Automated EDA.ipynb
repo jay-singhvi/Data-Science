{
 "cells": [
  {
   "cell_type": "code",
   "execution_count": null,
   "metadata": {},
   "outputs": [],
   "source": [
    "! pip install dtale"
   ]
  },
  {
   "cell_type": "code",
   "execution_count": null,
   "metadata": {},
   "outputs": [],
   "source": [
    "import seaborn as sns\n",
    "\n",
    "df = sns.load_dataset(\"titanic\")"
   ]
  },
  {
   "cell_type": "code",
   "execution_count": null,
   "metadata": {},
   "outputs": [],
   "source": [
    "import dtale\n",
    "\n",
    "dtale.show(df)"
   ]
  },
  {
   "cell_type": "code",
   "execution_count": null,
   "metadata": {},
   "outputs": [],
   "source": [
    "! pip install ydata-profiling"
   ]
  },
  {
   "cell_type": "code",
   "execution_count": 3,
   "metadata": {
    "execution": {
     "iopub.execute_input": "2024-11-30T23:37:25.694875Z",
     "iopub.status.busy": "2024-11-30T23:37:25.693555Z",
     "iopub.status.idle": "2024-11-30T23:37:25.724723Z",
     "shell.execute_reply": "2024-11-30T23:37:25.724534Z",
     "shell.execute_reply.started": "2024-11-30T23:37:25.694875Z"
    }
   },
   "outputs": [
    {
     "data": {
      "text/html": [
       "<div>\n",
       "<style scoped>\n",
       "    .dataframe tbody tr th:only-of-type {\n",
       "        vertical-align: middle;\n",
       "    }\n",
       "\n",
       "    .dataframe tbody tr th {\n",
       "        vertical-align: top;\n",
       "    }\n",
       "\n",
       "    .dataframe thead th {\n",
       "        text-align: right;\n",
       "    }\n",
       "</style>\n",
       "<table border=\"1\" class=\"dataframe\">\n",
       "  <thead>\n",
       "    <tr style=\"text-align: right;\">\n",
       "      <th></th>\n",
       "      <th>total_bill</th>\n",
       "      <th>tip</th>\n",
       "      <th>sex</th>\n",
       "      <th>smoker</th>\n",
       "      <th>day</th>\n",
       "      <th>time</th>\n",
       "      <th>size</th>\n",
       "    </tr>\n",
       "  </thead>\n",
       "  <tbody>\n",
       "    <tr>\n",
       "      <th>0</th>\n",
       "      <td>16.99</td>\n",
       "      <td>1.01</td>\n",
       "      <td>Female</td>\n",
       "      <td>No</td>\n",
       "      <td>Sun</td>\n",
       "      <td>Dinner</td>\n",
       "      <td>2</td>\n",
       "    </tr>\n",
       "    <tr>\n",
       "      <th>1</th>\n",
       "      <td>10.34</td>\n",
       "      <td>1.66</td>\n",
       "      <td>Male</td>\n",
       "      <td>No</td>\n",
       "      <td>Sun</td>\n",
       "      <td>Dinner</td>\n",
       "      <td>3</td>\n",
       "    </tr>\n",
       "    <tr>\n",
       "      <th>2</th>\n",
       "      <td>21.01</td>\n",
       "      <td>3.50</td>\n",
       "      <td>Male</td>\n",
       "      <td>No</td>\n",
       "      <td>Sun</td>\n",
       "      <td>Dinner</td>\n",
       "      <td>3</td>\n",
       "    </tr>\n",
       "    <tr>\n",
       "      <th>3</th>\n",
       "      <td>23.68</td>\n",
       "      <td>3.31</td>\n",
       "      <td>Male</td>\n",
       "      <td>No</td>\n",
       "      <td>Sun</td>\n",
       "      <td>Dinner</td>\n",
       "      <td>2</td>\n",
       "    </tr>\n",
       "    <tr>\n",
       "      <th>4</th>\n",
       "      <td>24.59</td>\n",
       "      <td>3.61</td>\n",
       "      <td>Female</td>\n",
       "      <td>No</td>\n",
       "      <td>Sun</td>\n",
       "      <td>Dinner</td>\n",
       "      <td>4</td>\n",
       "    </tr>\n",
       "    <tr>\n",
       "      <th>...</th>\n",
       "      <td>...</td>\n",
       "      <td>...</td>\n",
       "      <td>...</td>\n",
       "      <td>...</td>\n",
       "      <td>...</td>\n",
       "      <td>...</td>\n",
       "      <td>...</td>\n",
       "    </tr>\n",
       "    <tr>\n",
       "      <th>239</th>\n",
       "      <td>29.03</td>\n",
       "      <td>5.92</td>\n",
       "      <td>Male</td>\n",
       "      <td>No</td>\n",
       "      <td>Sat</td>\n",
       "      <td>Dinner</td>\n",
       "      <td>3</td>\n",
       "    </tr>\n",
       "    <tr>\n",
       "      <th>240</th>\n",
       "      <td>27.18</td>\n",
       "      <td>2.00</td>\n",
       "      <td>Female</td>\n",
       "      <td>Yes</td>\n",
       "      <td>Sat</td>\n",
       "      <td>Dinner</td>\n",
       "      <td>2</td>\n",
       "    </tr>\n",
       "    <tr>\n",
       "      <th>241</th>\n",
       "      <td>22.67</td>\n",
       "      <td>2.00</td>\n",
       "      <td>Male</td>\n",
       "      <td>Yes</td>\n",
       "      <td>Sat</td>\n",
       "      <td>Dinner</td>\n",
       "      <td>2</td>\n",
       "    </tr>\n",
       "    <tr>\n",
       "      <th>242</th>\n",
       "      <td>17.82</td>\n",
       "      <td>1.75</td>\n",
       "      <td>Male</td>\n",
       "      <td>No</td>\n",
       "      <td>Sat</td>\n",
       "      <td>Dinner</td>\n",
       "      <td>2</td>\n",
       "    </tr>\n",
       "    <tr>\n",
       "      <th>243</th>\n",
       "      <td>18.78</td>\n",
       "      <td>3.00</td>\n",
       "      <td>Female</td>\n",
       "      <td>No</td>\n",
       "      <td>Thur</td>\n",
       "      <td>Dinner</td>\n",
       "      <td>2</td>\n",
       "    </tr>\n",
       "  </tbody>\n",
       "</table>\n",
       "<p>244 rows × 7 columns</p>\n",
       "</div>"
      ],
      "text/plain": [
       "     total_bill   tip     sex smoker   day    time  size\n",
       "0         16.99  1.01  Female     No   Sun  Dinner     2\n",
       "1         10.34  1.66    Male     No   Sun  Dinner     3\n",
       "2         21.01  3.50    Male     No   Sun  Dinner     3\n",
       "3         23.68  3.31    Male     No   Sun  Dinner     2\n",
       "4         24.59  3.61  Female     No   Sun  Dinner     4\n",
       "..          ...   ...     ...    ...   ...     ...   ...\n",
       "239       29.03  5.92    Male     No   Sat  Dinner     3\n",
       "240       27.18  2.00  Female    Yes   Sat  Dinner     2\n",
       "241       22.67  2.00    Male    Yes   Sat  Dinner     2\n",
       "242       17.82  1.75    Male     No   Sat  Dinner     2\n",
       "243       18.78  3.00  Female     No  Thur  Dinner     2\n",
       "\n",
       "[244 rows x 7 columns]"
      ]
     },
     "metadata": {},
     "output_type": "display_data"
    }
   ],
   "source": [
    "import seaborn as sns\n",
    "df1 = sns.load_dataset(\"tips\")\n",
    "display(df1)"
   ]
  },
  {
   "cell_type": "code",
   "execution_count": 1,
   "metadata": {
    "execution": {
     "iopub.execute_input": "2024-11-30T23:36:58.900148Z",
     "iopub.status.busy": "2024-11-30T23:36:58.898776Z",
     "iopub.status.idle": "2024-11-30T23:37:04.449199Z",
     "shell.execute_reply": "2024-11-30T23:37:04.449199Z",
     "shell.execute_reply.started": "2024-11-30T23:36:58.900148Z"
    }
   },
   "outputs": [],
   "source": [
    "from ydata_profiling import ProfileReport"
   ]
  },
  {
   "cell_type": "code",
   "execution_count": 4,
   "metadata": {
    "execution": {
     "iopub.execute_input": "2024-11-30T23:37:29.530239Z",
     "iopub.status.busy": "2024-11-30T23:37:29.530239Z",
     "iopub.status.idle": "2024-11-30T23:37:33.553714Z",
     "shell.execute_reply": "2024-11-30T23:37:33.552688Z",
     "shell.execute_reply.started": "2024-11-30T23:37:29.530239Z"
    }
   },
   "outputs": [
    {
     "data": {
      "application/vnd.jupyter.widget-view+json": {
       "model_id": "372aa447a3764f698ec1d52344617d47",
       "version_major": 2,
       "version_minor": 0
      },
      "text/plain": [
       "Summarize dataset:   0%|          | 0/5 [00:00<?, ?it/s]"
      ]
     },
     "metadata": {},
     "output_type": "display_data"
    },
    {
     "data": {
      "application/vnd.jupyter.widget-view+json": {
       "model_id": "489c281defae481eafaba7efbef01832",
       "version_major": 2,
       "version_minor": 0
      },
      "text/plain": [
       "Generate report structure:   0%|          | 0/1 [00:00<?, ?it/s]"
      ]
     },
     "metadata": {},
     "output_type": "display_data"
    },
    {
     "data": {
      "application/vnd.jupyter.widget-view+json": {
       "model_id": "e39ffc25df8b43d48d8f50c395f00e54",
       "version_major": 2,
       "version_minor": 0
      },
      "text/plain": [
       "Render HTML:   0%|          | 0/1 [00:00<?, ?it/s]"
      ]
     },
     "metadata": {},
     "output_type": "display_data"
    },
    {
     "data": {
      "application/vnd.jupyter.widget-view+json": {
       "model_id": "6310f1248d65405b8425e20a89e26ce9",
       "version_major": 2,
       "version_minor": 0
      },
      "text/plain": [
       "Export report to file:   0%|          | 0/1 [00:00<?, ?it/s]"
      ]
     },
     "metadata": {},
     "output_type": "display_data"
    }
   ],
   "source": [
    "profile=ProfileReport(df1,explorative=True)\n",
    "profile.to_file(\"output.html\")"
   ]
  },
  {
   "cell_type": "code",
   "execution_count": 5,
   "metadata": {
    "execution": {
     "iopub.execute_input": "2024-11-30T23:41:18.877555Z",
     "iopub.status.busy": "2024-11-30T23:41:18.877555Z",
     "iopub.status.idle": "2024-11-30T23:41:26.099667Z",
     "shell.execute_reply": "2024-11-30T23:41:26.098658Z",
     "shell.execute_reply.started": "2024-11-30T23:41:18.877555Z"
    }
   },
   "outputs": [
    {
     "name": "stdout",
     "output_type": "stream",
     "text": [
      "Collecting sweetviz\n",
      "  Downloading sweetviz-2.3.1-py3-none-any.whl.metadata (24 kB)\n",
      "Requirement already satisfied: pandas!=1.0.0,!=1.0.1,!=1.0.2,>=0.25.3 in c:\\program files\\python312\\lib\\site-packages (from sweetviz) (2.1.4)\n",
      "Requirement already satisfied: numpy>=1.16.0 in c:\\users\\41222\\appdata\\roaming\\python\\python312\\site-packages (from sweetviz) (1.26.4)\n",
      "Requirement already satisfied: matplotlib>=3.1.3 in c:\\users\\41222\\appdata\\roaming\\python\\python312\\site-packages (from sweetviz) (3.9.2)\n",
      "Requirement already satisfied: tqdm>=4.43.0 in c:\\users\\41222\\appdata\\roaming\\python\\python312\\site-packages (from sweetviz) (4.66.5)\n",
      "Requirement already satisfied: scipy>=1.3.2 in c:\\program files\\python312\\lib\\site-packages (from sweetviz) (1.11.4)\n",
      "Requirement already satisfied: jinja2>=2.11.1 in c:\\program files\\python312\\lib\\site-packages (from sweetviz) (3.1.4)\n",
      "Requirement already satisfied: importlib-resources>=1.2.0 in c:\\users\\41222\\appdata\\roaming\\python\\python312\\site-packages (from sweetviz) (6.4.0)\n",
      "Requirement already satisfied: MarkupSafe>=2.0 in c:\\program files\\python312\\lib\\site-packages (from jinja2>=2.11.1->sweetviz) (2.1.5)\n",
      "Requirement already satisfied: contourpy>=1.0.1 in c:\\program files\\python312\\lib\\site-packages (from matplotlib>=3.1.3->sweetviz) (1.2.1)\n",
      "Requirement already satisfied: cycler>=0.10 in c:\\program files\\python312\\lib\\site-packages (from matplotlib>=3.1.3->sweetviz) (0.12.1)\n",
      "Requirement already satisfied: fonttools>=4.22.0 in c:\\program files\\python312\\lib\\site-packages (from matplotlib>=3.1.3->sweetviz) (4.53.1)\n",
      "Requirement already satisfied: kiwisolver>=1.3.1 in c:\\program files\\python312\\lib\\site-packages (from matplotlib>=3.1.3->sweetviz) (1.4.5)\n",
      "Requirement already satisfied: packaging>=20.0 in c:\\users\\41222\\appdata\\roaming\\python\\python312\\site-packages (from matplotlib>=3.1.3->sweetviz) (24.1)\n",
      "Requirement already satisfied: pillow>=8 in c:\\program files\\python312\\lib\\site-packages (from matplotlib>=3.1.3->sweetviz) (10.4.0)\n",
      "Requirement already satisfied: pyparsing>=2.3.1 in c:\\program files\\python312\\lib\\site-packages (from matplotlib>=3.1.3->sweetviz) (3.1.2)\n",
      "Requirement already satisfied: python-dateutil>=2.7 in c:\\program files\\python312\\lib\\site-packages (from matplotlib>=3.1.3->sweetviz) (2.9.0.post0)\n",
      "Requirement already satisfied: pytz>=2020.1 in c:\\program files\\python312\\lib\\site-packages (from pandas!=1.0.0,!=1.0.1,!=1.0.2,>=0.25.3->sweetviz) (2024.1)\n",
      "Requirement already satisfied: tzdata>=2022.1 in c:\\program files\\python312\\lib\\site-packages (from pandas!=1.0.0,!=1.0.1,!=1.0.2,>=0.25.3->sweetviz) (2024.1)\n",
      "Requirement already satisfied: colorama in c:\\users\\41222\\appdata\\roaming\\python\\python312\\site-packages (from tqdm>=4.43.0->sweetviz) (0.4.6)\n",
      "Requirement already satisfied: six>=1.5 in c:\\program files\\python312\\lib\\site-packages (from python-dateutil>=2.7->matplotlib>=3.1.3->sweetviz) (1.16.0)\n",
      "Downloading sweetviz-2.3.1-py3-none-any.whl (15.1 MB)\n",
      "   ---------------------------------------- 0.0/15.1 MB ? eta -:--:--\n",
      "   ----- ---------------------------------- 2.1/15.1 MB 13.0 MB/s eta 0:00:02\n",
      "   ------------- -------------------------- 5.0/15.1 MB 13.1 MB/s eta 0:00:01\n",
      "   -------------------- ------------------- 7.6/15.1 MB 12.7 MB/s eta 0:00:01\n",
      "   --------------------------- ------------ 10.2/15.1 MB 12.8 MB/s eta 0:00:01\n",
      "   ---------------------------------- ----- 13.1/15.1 MB 12.8 MB/s eta 0:00:01\n",
      "   ---------------------------------------  14.9/15.1 MB 12.7 MB/s eta 0:00:01\n",
      "   ---------------------------------------- 15.1/15.1 MB 12.0 MB/s eta 0:00:00\n",
      "Installing collected packages: sweetviz\n",
      "Successfully installed sweetviz-2.3.1\n"
     ]
    }
   ],
   "source": [
    "! pip install sweetviz"
   ]
  },
  {
   "cell_type": "code",
   "execution_count": 7,
   "metadata": {
    "execution": {
     "iopub.execute_input": "2024-11-30T23:44:31.779910Z",
     "iopub.status.busy": "2024-11-30T23:44:31.778599Z",
     "iopub.status.idle": "2024-11-30T23:44:33.946563Z",
     "shell.execute_reply": "2024-11-30T23:44:33.946563Z",
     "shell.execute_reply.started": "2024-11-30T23:44:31.779910Z"
    }
   },
   "outputs": [
    {
     "data": {
      "application/vnd.jupyter.widget-view+json": {
       "model_id": "335c3b4aa9094bcebfccd94d933f6a46",
       "version_major": 2,
       "version_minor": 0
      },
      "text/plain": [
       "                                             |                                                                …"
      ]
     },
     "metadata": {},
     "output_type": "display_data"
    },
    {
     "name": "stdout",
     "output_type": "stream",
     "text": [
      "Report sweet_report.html was generated! NOTEBOOK/COLAB USERS: the web browser MAY not pop up, regardless, the report IS saved in your notebook/colab files.\n",
      "ERROR: comet_ml is installed, but not configured properly (e.g. check API key setup). HTML reports will not be uploaded.\n"
     ]
    }
   ],
   "source": [
    "import sweetviz as sv\n",
    "report = sv.analyze(df1)\n",
    "report.show_html(\"sweet_report.html\")"
   ]
  }
 ],
 "metadata": {
  "kernelspec": {
   "display_name": "Python 3 (ipykernel)",
   "language": "python",
   "name": "python3"
  },
  "language_info": {
   "codemirror_mode": {
    "name": "ipython",
    "version": 3
   },
   "file_extension": ".py",
   "mimetype": "text/x-python",
   "name": "python",
   "nbconvert_exporter": "python",
   "pygments_lexer": "ipython3",
   "version": "3.12.7"
  },
  "widgets": {
   "application/vnd.jupyter.widget-state+json": {
    "state": {
     "0fac118833704e9c8758c40cf1400292": {
      "model_module": "@jupyter-widgets/controls",
      "model_module_version": "2.0.0",
      "model_name": "FloatProgressModel",
      "state": {
       "bar_style": "success",
       "layout": "IPY_MODEL_40c4b3ba6a604308bf043e050e42f14c",
       "max": 1,
       "style": "IPY_MODEL_7503774adcfd4b559f46f88b86b53e9a",
       "value": 1
      }
     },
     "1290e6581af74412917fe86c6c6382ab": {
      "model_module": "@jupyter-widgets/base",
      "model_module_version": "2.0.0",
      "model_name": "LayoutModel",
      "state": {}
     },
     "1827c6fe4b634f938a1fb77d4404810c": {
      "model_module": "@jupyter-widgets/controls",
      "model_module_version": "2.0.0",
      "model_name": "HTMLStyleModel",
      "state": {
       "description_width": "",
       "font_size": null,
       "text_color": null
      }
     },
     "1a94d34ed1434513a07ed9754ebd83d5": {
      "model_module": "@jupyter-widgets/controls",
      "model_module_version": "2.0.0",
      "model_name": "HTMLStyleModel",
      "state": {
       "description_width": "",
       "font_size": null,
       "text_color": null
      }
     },
     "1ce577219a5a46d3b70cbd35328e8572": {
      "model_module": "@jupyter-widgets/base",
      "model_module_version": "2.0.0",
      "model_name": "LayoutModel",
      "state": {
       "flex": "2"
      }
     },
     "1e96e535869543508d56db7a0606de97": {
      "model_module": "@jupyter-widgets/base",
      "model_module_version": "2.0.0",
      "model_name": "LayoutModel",
      "state": {}
     },
     "20b68b891d73479fa86942013c762a31": {
      "model_module": "@jupyter-widgets/controls",
      "model_module_version": "2.0.0",
      "model_name": "FloatProgressModel",
      "state": {
       "bar_style": "success",
       "layout": "IPY_MODEL_5facb3a4d25a4c1685676f0c21339bcd",
       "max": 5,
       "style": "IPY_MODEL_feecc2cf4d1c4406aebf0e7959aead49",
       "value": 5
      }
     },
     "2b82a3997fd9410582a202a08d2c089c": {
      "model_module": "@jupyter-widgets/controls",
      "model_module_version": "2.0.0",
      "model_name": "HTMLModel",
      "state": {
       "layout": "IPY_MODEL_80ba1fb9ec5b42fcbf6d16323d76aa38",
       "style": "IPY_MODEL_7f8be739b0ef4fa09890d3741eddc961",
       "value": " 1/1 [00:00&lt;00:00, 29.51it/s]"
      }
     },
     "31af2df54a7440b7b0bdb7eb57d97266": {
      "model_module": "@jupyter-widgets/controls",
      "model_module_version": "2.0.0",
      "model_name": "ProgressStyleModel",
      "state": {
       "description_width": ""
      }
     },
     "335c3b4aa9094bcebfccd94d933f6a46": {
      "model_module": "@jupyter-widgets/controls",
      "model_module_version": "2.0.0",
      "model_name": "HBoxModel",
      "state": {
       "children": [
        "IPY_MODEL_49375027b0d140e08433cffb416793d3",
        "IPY_MODEL_adff069360a54d5a8234e063e72f16ec",
        "IPY_MODEL_aece0e73cd2a46898fd9ce42a3aec2ad"
       ],
       "layout": "IPY_MODEL_b8d4c81dc5f544c69a6209435e7b5f87"
      }
     },
     "372aa447a3764f698ec1d52344617d47": {
      "model_module": "@jupyter-widgets/controls",
      "model_module_version": "2.0.0",
      "model_name": "HBoxModel",
      "state": {
       "children": [
        "IPY_MODEL_41b0336ea7f9415fa054f686050a97d5",
        "IPY_MODEL_20b68b891d73479fa86942013c762a31",
        "IPY_MODEL_3acd3ee7b1e942ba83be9797fe5a1532"
       ],
       "layout": "IPY_MODEL_1290e6581af74412917fe86c6c6382ab"
      }
     },
     "38d3494c92124cd089920495517cf28d": {
      "model_module": "@jupyter-widgets/controls",
      "model_module_version": "2.0.0",
      "model_name": "ProgressStyleModel",
      "state": {
       "description_width": ""
      }
     },
     "3acd3ee7b1e942ba83be9797fe5a1532": {
      "model_module": "@jupyter-widgets/controls",
      "model_module_version": "2.0.0",
      "model_name": "HTMLModel",
      "state": {
       "layout": "IPY_MODEL_56b8e4767b304b928f5c9aeabca5065b",
       "style": "IPY_MODEL_731d50046ca54a7d9397c1f68eafb483",
       "value": " 25/25 [00:01&lt;00:00, 11.10it/s, Completed]"
      }
     },
     "40c4b3ba6a604308bf043e050e42f14c": {
      "model_module": "@jupyter-widgets/base",
      "model_module_version": "2.0.0",
      "model_name": "LayoutModel",
      "state": {}
     },
     "41b0336ea7f9415fa054f686050a97d5": {
      "model_module": "@jupyter-widgets/controls",
      "model_module_version": "2.0.0",
      "model_name": "HTMLModel",
      "state": {
       "layout": "IPY_MODEL_9b6c8bda7ced48fb8e02cc623e0529eb",
       "style": "IPY_MODEL_dbedd3e76ce245bcb02d5ef39978e99e",
       "value": "Summarize dataset: 100%"
      }
     },
     "41c04946db734b55a8717c6786c2802d": {
      "model_module": "@jupyter-widgets/controls",
      "model_module_version": "2.0.0",
      "model_name": "HTMLModel",
      "state": {
       "layout": "IPY_MODEL_1e96e535869543508d56db7a0606de97",
       "style": "IPY_MODEL_47392fe99d884ba5ac84f476e2d136fb",
       "value": "Generate report structure: 100%"
      }
     },
     "47392fe99d884ba5ac84f476e2d136fb": {
      "model_module": "@jupyter-widgets/controls",
      "model_module_version": "2.0.0",
      "model_name": "HTMLStyleModel",
      "state": {
       "description_width": "",
       "font_size": null,
       "text_color": null
      }
     },
     "47ef0f1df13e4a2ca05728d42dc4ff14": {
      "model_module": "@jupyter-widgets/base",
      "model_module_version": "2.0.0",
      "model_name": "LayoutModel",
      "state": {}
     },
     "489c281defae481eafaba7efbef01832": {
      "model_module": "@jupyter-widgets/controls",
      "model_module_version": "2.0.0",
      "model_name": "HBoxModel",
      "state": {
       "children": [
        "IPY_MODEL_41c04946db734b55a8717c6786c2802d",
        "IPY_MODEL_0fac118833704e9c8758c40cf1400292",
        "IPY_MODEL_a1fa8b52a9844242aeceedaa4baa04e3"
       ],
       "layout": "IPY_MODEL_5be9c580906f4d0d9d15a77f82def290"
      }
     },
     "48fbd668f2ca4531ab06293eb1ecdb1f": {
      "model_module": "@jupyter-widgets/controls",
      "model_module_version": "2.0.0",
      "model_name": "FloatProgressModel",
      "state": {
       "bar_style": "success",
       "layout": "IPY_MODEL_589ac80042c54a4e9c27273e986cbf12",
       "max": 1,
       "style": "IPY_MODEL_31af2df54a7440b7b0bdb7eb57d97266",
       "value": 1
      }
     },
     "49375027b0d140e08433cffb416793d3": {
      "model_module": "@jupyter-widgets/controls",
      "model_module_version": "2.0.0",
      "model_name": "HTMLModel",
      "state": {
       "layout": "IPY_MODEL_72a580a583e7463a952e7e7b30eef56d",
       "style": "IPY_MODEL_1a94d34ed1434513a07ed9754ebd83d5",
       "value": "Done! Use &#x27;show&#x27; commands to display/save.   "
      }
     },
     "56b8e4767b304b928f5c9aeabca5065b": {
      "model_module": "@jupyter-widgets/base",
      "model_module_version": "2.0.0",
      "model_name": "LayoutModel",
      "state": {}
     },
     "589ac80042c54a4e9c27273e986cbf12": {
      "model_module": "@jupyter-widgets/base",
      "model_module_version": "2.0.0",
      "model_name": "LayoutModel",
      "state": {}
     },
     "5be9c580906f4d0d9d15a77f82def290": {
      "model_module": "@jupyter-widgets/base",
      "model_module_version": "2.0.0",
      "model_name": "LayoutModel",
      "state": {}
     },
     "5facb3a4d25a4c1685676f0c21339bcd": {
      "model_module": "@jupyter-widgets/base",
      "model_module_version": "2.0.0",
      "model_name": "LayoutModel",
      "state": {}
     },
     "6310f1248d65405b8425e20a89e26ce9": {
      "model_module": "@jupyter-widgets/controls",
      "model_module_version": "2.0.0",
      "model_name": "HBoxModel",
      "state": {
       "children": [
        "IPY_MODEL_69317cdc837946c0a04fdb5a45f6f2bd",
        "IPY_MODEL_95dbee6a1f7b44069361cbb69c38cde6",
        "IPY_MODEL_2b82a3997fd9410582a202a08d2c089c"
       ],
       "layout": "IPY_MODEL_afe73f85ff8248b1ba487fd748f626ae"
      }
     },
     "6398dd74c31c46f29f5d1622eae18829": {
      "model_module": "@jupyter-widgets/controls",
      "model_module_version": "2.0.0",
      "model_name": "HTMLStyleModel",
      "state": {
       "description_width": "",
       "font_size": null,
       "text_color": null
      }
     },
     "69317cdc837946c0a04fdb5a45f6f2bd": {
      "model_module": "@jupyter-widgets/controls",
      "model_module_version": "2.0.0",
      "model_name": "HTMLModel",
      "state": {
       "layout": "IPY_MODEL_d752fb3a5e3f4ab0bec8a452576c774c",
       "style": "IPY_MODEL_b51bcc19956e4721a51787dfcabc9087",
       "value": "Export report to file: 100%"
      }
     },
     "6e354f692995405baa8107fe320b2ff2": {
      "model_module": "@jupyter-widgets/controls",
      "model_module_version": "2.0.0",
      "model_name": "HTMLModel",
      "state": {
       "layout": "IPY_MODEL_e4d43d66692d481b94adba4f6d559a1a",
       "style": "IPY_MODEL_7223fe89aafe49e794499304ae3976c7",
       "value": "Render HTML: 100%"
      }
     },
     "7223fe89aafe49e794499304ae3976c7": {
      "model_module": "@jupyter-widgets/controls",
      "model_module_version": "2.0.0",
      "model_name": "HTMLStyleModel",
      "state": {
       "description_width": "",
       "font_size": null,
       "text_color": null
      }
     },
     "72a580a583e7463a952e7e7b30eef56d": {
      "model_module": "@jupyter-widgets/base",
      "model_module_version": "2.0.0",
      "model_name": "LayoutModel",
      "state": {}
     },
     "731d50046ca54a7d9397c1f68eafb483": {
      "model_module": "@jupyter-widgets/controls",
      "model_module_version": "2.0.0",
      "model_name": "HTMLStyleModel",
      "state": {
       "description_width": "",
       "font_size": null,
       "text_color": null
      }
     },
     "7503774adcfd4b559f46f88b86b53e9a": {
      "model_module": "@jupyter-widgets/controls",
      "model_module_version": "2.0.0",
      "model_name": "ProgressStyleModel",
      "state": {
       "description_width": ""
      }
     },
     "7963268511d2418a96f5b97a731ffc2e": {
      "model_module": "@jupyter-widgets/controls",
      "model_module_version": "2.0.0",
      "model_name": "HTMLStyleModel",
      "state": {
       "description_width": "",
       "font_size": null,
       "text_color": null
      }
     },
     "7f8be739b0ef4fa09890d3741eddc961": {
      "model_module": "@jupyter-widgets/controls",
      "model_module_version": "2.0.0",
      "model_name": "HTMLStyleModel",
      "state": {
       "description_width": "",
       "font_size": null,
       "text_color": null
      }
     },
     "80ba1fb9ec5b42fcbf6d16323d76aa38": {
      "model_module": "@jupyter-widgets/base",
      "model_module_version": "2.0.0",
      "model_name": "LayoutModel",
      "state": {}
     },
     "8baf118225f34d71bfd758890a267c2e": {
      "model_module": "@jupyter-widgets/base",
      "model_module_version": "2.0.0",
      "model_name": "LayoutModel",
      "state": {}
     },
     "95dbee6a1f7b44069361cbb69c38cde6": {
      "model_module": "@jupyter-widgets/controls",
      "model_module_version": "2.0.0",
      "model_name": "FloatProgressModel",
      "state": {
       "bar_style": "success",
       "layout": "IPY_MODEL_8baf118225f34d71bfd758890a267c2e",
       "max": 1,
       "style": "IPY_MODEL_38d3494c92124cd089920495517cf28d",
       "value": 1
      }
     },
     "9b6c8bda7ced48fb8e02cc623e0529eb": {
      "model_module": "@jupyter-widgets/base",
      "model_module_version": "2.0.0",
      "model_name": "LayoutModel",
      "state": {}
     },
     "9d4fcc73a515466e80c5a26a6d2896b9": {
      "model_module": "@jupyter-widgets/base",
      "model_module_version": "2.0.0",
      "model_name": "LayoutModel",
      "state": {}
     },
     "a1fa8b52a9844242aeceedaa4baa04e3": {
      "model_module": "@jupyter-widgets/controls",
      "model_module_version": "2.0.0",
      "model_name": "HTMLModel",
      "state": {
       "layout": "IPY_MODEL_9d4fcc73a515466e80c5a26a6d2896b9",
       "style": "IPY_MODEL_6398dd74c31c46f29f5d1622eae18829",
       "value": " 1/1 [00:01&lt;00:00,  1.71s/it]"
      }
     },
     "adff069360a54d5a8234e063e72f16ec": {
      "model_module": "@jupyter-widgets/controls",
      "model_module_version": "2.0.0",
      "model_name": "FloatProgressModel",
      "state": {
       "bar_style": "success",
       "layout": "IPY_MODEL_1ce577219a5a46d3b70cbd35328e8572",
       "max": 1,
       "style": "IPY_MODEL_af9a25009ffd41229f414bca8fb15878",
       "value": 1
      }
     },
     "aece0e73cd2a46898fd9ce42a3aec2ad": {
      "model_module": "@jupyter-widgets/controls",
      "model_module_version": "2.0.0",
      "model_name": "HTMLModel",
      "state": {
       "layout": "IPY_MODEL_c40bd73605654960bd3d6d4e08b5c4b5",
       "style": "IPY_MODEL_7963268511d2418a96f5b97a731ffc2e",
       "value": " [100%]   00:00 -&gt; (00:00 left)"
      }
     },
     "af9a25009ffd41229f414bca8fb15878": {
      "model_module": "@jupyter-widgets/controls",
      "model_module_version": "2.0.0",
      "model_name": "ProgressStyleModel",
      "state": {
       "description_width": ""
      }
     },
     "afe73f85ff8248b1ba487fd748f626ae": {
      "model_module": "@jupyter-widgets/base",
      "model_module_version": "2.0.0",
      "model_name": "LayoutModel",
      "state": {}
     },
     "b51bcc19956e4721a51787dfcabc9087": {
      "model_module": "@jupyter-widgets/controls",
      "model_module_version": "2.0.0",
      "model_name": "HTMLStyleModel",
      "state": {
       "description_width": "",
       "font_size": null,
       "text_color": null
      }
     },
     "b8d4c81dc5f544c69a6209435e7b5f87": {
      "model_module": "@jupyter-widgets/base",
      "model_module_version": "2.0.0",
      "model_name": "LayoutModel",
      "state": {
       "display": "inline-flex",
       "flex_flow": "row wrap",
       "width": "100%"
      }
     },
     "bcb00c1387b1451786c74a79a55c1170": {
      "model_module": "@jupyter-widgets/controls",
      "model_module_version": "2.0.0",
      "model_name": "HTMLModel",
      "state": {
       "layout": "IPY_MODEL_d3f4c9517dc24914b0dd0abffe47c321",
       "style": "IPY_MODEL_1827c6fe4b634f938a1fb77d4404810c",
       "value": " 1/1 [00:00&lt;00:00,  2.57it/s]"
      }
     },
     "c40bd73605654960bd3d6d4e08b5c4b5": {
      "model_module": "@jupyter-widgets/base",
      "model_module_version": "2.0.0",
      "model_name": "LayoutModel",
      "state": {}
     },
     "d3f4c9517dc24914b0dd0abffe47c321": {
      "model_module": "@jupyter-widgets/base",
      "model_module_version": "2.0.0",
      "model_name": "LayoutModel",
      "state": {}
     },
     "d752fb3a5e3f4ab0bec8a452576c774c": {
      "model_module": "@jupyter-widgets/base",
      "model_module_version": "2.0.0",
      "model_name": "LayoutModel",
      "state": {}
     },
     "dbedd3e76ce245bcb02d5ef39978e99e": {
      "model_module": "@jupyter-widgets/controls",
      "model_module_version": "2.0.0",
      "model_name": "HTMLStyleModel",
      "state": {
       "description_width": "",
       "font_size": null,
       "text_color": null
      }
     },
     "e39ffc25df8b43d48d8f50c395f00e54": {
      "model_module": "@jupyter-widgets/controls",
      "model_module_version": "2.0.0",
      "model_name": "HBoxModel",
      "state": {
       "children": [
        "IPY_MODEL_6e354f692995405baa8107fe320b2ff2",
        "IPY_MODEL_48fbd668f2ca4531ab06293eb1ecdb1f",
        "IPY_MODEL_bcb00c1387b1451786c74a79a55c1170"
       ],
       "layout": "IPY_MODEL_47ef0f1df13e4a2ca05728d42dc4ff14"
      }
     },
     "e4d43d66692d481b94adba4f6d559a1a": {
      "model_module": "@jupyter-widgets/base",
      "model_module_version": "2.0.0",
      "model_name": "LayoutModel",
      "state": {}
     },
     "feecc2cf4d1c4406aebf0e7959aead49": {
      "model_module": "@jupyter-widgets/controls",
      "model_module_version": "2.0.0",
      "model_name": "ProgressStyleModel",
      "state": {
       "description_width": ""
      }
     }
    },
    "version_major": 2,
    "version_minor": 0
   }
  }
 },
 "nbformat": 4,
 "nbformat_minor": 4
}
