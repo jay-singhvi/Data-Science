{
 "cells": [
  {
   "cell_type": "markdown",
   "id": "16da6c54",
   "metadata": {},
   "source": [
    "### Examples Of Pyspark ML"
   ]
  },
  {
   "cell_type": "code",
   "execution_count": 1,
   "id": "0b9da3ad",
   "metadata": {},
   "outputs": [
    {
     "data": {
      "text/html": [
       "\n",
       "            <div>\n",
       "                <p><b>SparkSession - in-memory</b></p>\n",
       "                \n",
       "        <div>\n",
       "            <p><b>SparkContext</b></p>\n",
       "\n",
       "            <p><a href=\"http://10.0.0.126:4040\">Spark UI</a></p>\n",
       "\n",
       "            <dl>\n",
       "              <dt>Version</dt>\n",
       "                <dd><code>v3.5.3</code></dd>\n",
       "              <dt>Master</dt>\n",
       "                <dd><code>local[*]</code></dd>\n",
       "              <dt>AppName</dt>\n",
       "                <dd><code>Pyspark ML</code></dd>\n",
       "            </dl>\n",
       "        </div>\n",
       "        \n",
       "            </div>\n",
       "        "
      ],
      "text/plain": [
       "<pyspark.sql.session.SparkSession at 0x29e3d60dca0>"
      ]
     },
     "execution_count": 1,
     "metadata": {},
     "output_type": "execute_result"
    }
   ],
   "source": [
    "from pyspark.sql import SparkSession\n",
    "from pyspark.sql.dataframe import DataFrame as pyspark_DataFrame\n",
    "\n",
    "\n",
    "spark = SparkSession.builder.appName(\"Pyspark ML\").getOrCreate()\n",
    "spark"
   ]
  },
  {
   "cell_type": "code",
   "execution_count": 2,
   "id": "735525da",
   "metadata": {},
   "outputs": [
    {
     "name": "stdout",
     "output_type": "stream",
     "text": [
      "+---------+---+----------+------+\n",
      "|     Name|age|Experience|Salary|\n",
      "+---------+---+----------+------+\n",
      "|    Krish| 31|        10| 30000|\n",
      "|Sudhanshu| 30|         8| 25000|\n",
      "|    Sunny| 29|         4| 20000|\n",
      "|     Paul| 24|         3| 20000|\n",
      "|   Harsha| 21|         1| 15000|\n",
      "|  Shubham| 23|         2| 18000|\n",
      "+---------+---+----------+------+\n",
      "\n",
      "root\n",
      " |-- Name: string (nullable = true)\n",
      " |-- age: integer (nullable = true)\n",
      " |-- Experience: integer (nullable = true)\n",
      " |-- Salary: integer (nullable = true)\n",
      "\n"
     ]
    },
    {
     "data": {
      "text/plain": [
       "['Name', 'age', 'Experience', 'Salary']"
      ]
     },
     "execution_count": 2,
     "metadata": {},
     "output_type": "execute_result"
    }
   ],
   "source": [
    "## Read The dataset\n",
    "training: pyspark_DataFrame = spark.read.csv(\"test1.csv\", header=True, inferSchema=True)\n",
    "training.show()\n",
    "training.printSchema()\n",
    "training.columns"
   ]
  },
  {
   "cell_type": "markdown",
   "id": "cffef5b9",
   "metadata": {},
   "source": [
    "#### [Age,Experience]----> new feature--->independent feature"
   ]
  },
  {
   "cell_type": "code",
   "execution_count": 3,
   "id": "c197c01b",
   "metadata": {},
   "outputs": [],
   "source": [
    "from pyspark.ml.feature import VectorAssembler"
   ]
  },
  {
   "cell_type": "code",
   "execution_count": 4,
   "id": "be6a7726",
   "metadata": {},
   "outputs": [],
   "source": [
    "independentFeatureAssembler = VectorAssembler(\n",
    "    inputCols=[\"age\", \"Experience\"], outputCol=\"Independent Feature\"\n",
    ")"
   ]
  },
  {
   "cell_type": "code",
   "execution_count": 5,
   "id": "9ac330fb",
   "metadata": {},
   "outputs": [
    {
     "name": "stdout",
     "output_type": "stream",
     "text": [
      "+---------+---+----------+------+-------------------+\n",
      "|     Name|age|Experience|Salary|Independent Feature|\n",
      "+---------+---+----------+------+-------------------+\n",
      "|    Krish| 31|        10| 30000|        [31.0,10.0]|\n",
      "|Sudhanshu| 30|         8| 25000|         [30.0,8.0]|\n",
      "|    Sunny| 29|         4| 20000|         [29.0,4.0]|\n",
      "|     Paul| 24|         3| 20000|         [24.0,3.0]|\n",
      "|   Harsha| 21|         1| 15000|         [21.0,1.0]|\n",
      "|  Shubham| 23|         2| 18000|         [23.0,2.0]|\n",
      "+---------+---+----------+------+-------------------+\n",
      "\n"
     ]
    }
   ],
   "source": [
    "output: pyspark_DataFrame = independentFeatureAssembler.transform(training)\n",
    "output.show()"
   ]
  },
  {
   "cell_type": "code",
   "execution_count": 6,
   "id": "703a8472",
   "metadata": {},
   "outputs": [
    {
     "name": "stdout",
     "output_type": "stream",
     "text": [
      "+------+-------------------+\n",
      "|Salary|Independent Feature|\n",
      "+------+-------------------+\n",
      "| 30000|        [31.0,10.0]|\n",
      "| 25000|         [30.0,8.0]|\n",
      "| 20000|         [29.0,4.0]|\n",
      "| 20000|         [24.0,3.0]|\n",
      "| 15000|         [21.0,1.0]|\n",
      "| 18000|         [23.0,2.0]|\n",
      "+------+-------------------+\n",
      "\n"
     ]
    }
   ],
   "source": [
    "final_data: pyspark_DataFrame = output[\"Salary\", \"Independent Feature\"]\n",
    "\n",
    "final_data.show()"
   ]
  },
  {
   "cell_type": "code",
   "execution_count": 15,
   "id": "10e89d8f",
   "metadata": {},
   "outputs": [],
   "source": [
    "from pyspark.ml.regression import LinearRegression\n",
    "\n",
    "# train test split\n",
    "\n",
    "train_data, test_data = final_data.randomSplit([0.75, 0.25])\n",
    "regressor = LinearRegression(featuresCol=\"Independent Feature\", labelCol=\"Salary\")\n",
    "regressor = regressor.fit(train_data)"
   ]
  },
  {
   "cell_type": "code",
   "execution_count": 16,
   "id": "de90b723",
   "metadata": {},
   "outputs": [
    {
     "data": {
      "text/plain": [
       "DenseVector([109.3058, 1199.4092])"
      ]
     },
     "execution_count": 16,
     "metadata": {},
     "output_type": "execute_result"
    }
   ],
   "source": [
    "# Coefficients\n",
    "regressor.coefficients"
   ]
  },
  {
   "cell_type": "code",
   "execution_count": 17,
   "id": "b88832bb",
   "metadata": {},
   "outputs": [
    {
     "data": {
      "text/plain": [
       "12187.592319054227"
      ]
     },
     "execution_count": 17,
     "metadata": {},
     "output_type": "execute_result"
    }
   ],
   "source": [
    "# Intercepts\n",
    "regressor.intercept"
   ]
  },
  {
   "cell_type": "code",
   "execution_count": 18,
   "id": "cb6f35e0",
   "metadata": {},
   "outputs": [
    {
     "name": "stdout",
     "output_type": "stream",
     "text": [
      "+------+-------------------+------------------+\n",
      "|Salary|Independent Feature|        prediction|\n",
      "+------+-------------------+------------------+\n",
      "| 20000|         [24.0,3.0]| 18409.15805022155|\n",
      "| 30000|        [31.0,10.0]|27570.162481536143|\n",
      "+------+-------------------+------------------+\n",
      "\n"
     ]
    }
   ],
   "source": [
    "# prediction\n",
    "pred_results = regressor.evaluate(test_data)\n",
    "pred_results.predictions.show()"
   ]
  },
  {
   "cell_type": "code",
   "execution_count": 19,
   "id": "bb3be06a",
   "metadata": {},
   "outputs": [
    {
     "data": {
      "text/plain": [
       "(4217444.237654746, 2010.339734121153)"
      ]
     },
     "execution_count": 19,
     "metadata": {},
     "output_type": "execute_result"
    }
   ],
   "source": [
    "pred_results.meanSquaredError, pred_results.meanAbsoluteError"
   ]
  },
  {
   "cell_type": "markdown",
   "id": "a92fe840",
   "metadata": {},
   "source": [
    "I'll help explain the outputs after the Linear Regression model was created. Let's break it down step by step:\n",
    "\n",
    "1. **Coefficients** (regressor.coefficients)\n",
    "```\n",
    "DenseVector([109.3058, 1199.4092])\n",
    "```\n",
    "- These numbers represent the weights for each independent feature [age, Experience]\n",
    "- For age: 109.3058 means for every 1 year increase in age, salary increases by approximately 109.31 units (currency)\n",
    "- For experience: 1199.4092 means for every 1 year increase in experience, salary increases by approximately 1,199.41 units (currency)\n",
    "- Experience has a much stronger impact on salary than age in this model\n",
    "\n",
    "2. **Intercept** (regressor.intercept)\n",
    "```\n",
    "12187.592319054227\n",
    "```\n",
    "- This is the base salary (when all features are 0)\n",
    "- It means if someone has 0 years of age (hypothetically) and 0 years of experience, the predicted salary would be approximately 12,187.59 units\n",
    "\n",
    "3. **Predictions** (pred_results.predictions)\n",
    "```\n",
    "+------+-------------------+------------------+\n",
    "|Salary|Independent Feature|        prediction|\n",
    "+------+-------------------+------------------+\n",
    "| 20000|         [24.0,3.0]| 18409.15805022155|\n",
    "| 30000|        [31.0,10.0]|27570.162481536143|\n",
    "+------+-------------------+------------------+\n",
    "```\n",
    "- Shows actual salary vs predicted salary for the test data\n",
    "- First row: Person with age 24 and 3 years experience\n",
    "  * Actual salary: 20,000\n",
    "  * Predicted salary: ~18,409\n",
    "- Second row: Person with age 31 and 10 years experience\n",
    "  * Actual salary: 30,000\n",
    "  * Predicted salary: ~27,570\n",
    "\n",
    "4. **Error Metrics**\n",
    "```\n",
    "(4217444.237654746, 2010.339734121153)\n",
    "```\n",
    "- Mean Squared Error (MSE): 4,217,444.24\n",
    "  * Measures average squared difference between predicted and actual values\n",
    "  * Higher number because errors are squared\n",
    "- Mean Absolute Error (MAE): 2,010.34\n",
    "  * Average absolute difference between predicted and actual values\n",
    "  * On average, predictions are off by about 2,010 units\n",
    "  * This is more interpretable than MSE as it's in the same units as the salary\n",
    "\n",
    "The model appears to be making reasonable predictions, though there's some error in its estimates as shown by the MAE. The stronger coefficient for experience compared to age suggests that experience is a more important factor in determining salary in this dataset."
   ]
  }
 ],
 "metadata": {
  "kernelspec": {
   "display_name": "Python 3",
   "language": "python",
   "name": "python3"
  },
  "language_info": {
   "codemirror_mode": {
    "name": "ipython",
    "version": 3
   },
   "file_extension": ".py",
   "mimetype": "text/x-python",
   "name": "python",
   "nbconvert_exporter": "python",
   "pygments_lexer": "ipython3",
   "version": "3.12.7"
  }
 },
 "nbformat": 4,
 "nbformat_minor": 5
}
